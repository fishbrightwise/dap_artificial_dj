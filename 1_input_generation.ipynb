{
 "cells": [
  {
   "cell_type": "code",
   "execution_count": 2,
   "metadata": {},
   "outputs": [],
   "source": [
    "input_sentence = input(\"Enter your desired song name here!\")\n",
    "input_playlist = input(\"Enter your desired playlist name here!\")\n",
    "recc_num = int(input(\"Enter how many songs you want to be recommended!\"))\n",
    "client_id = input(\"Enter your Spotify API Client Key here!\")\n",
    "client_secret = input(\"Enter your Spotify API Secret Key here!\")\n",
    "sp_dc = input(\"Enter your Spotify sp_dc here!\")\n",
    "sp_key = input(\"Enter your Spotify sp_key here!\")"
   ]
  },
  {
   "cell_type": "code",
   "execution_count": 4,
   "metadata": {},
   "outputs": [],
   "source": [
    "import json\n",
    "\n",
    "# Define the variables to export\n",
    "variables_to_export = {\n",
    "    'client_id': client_id,\n",
    "    'client_secret': client_secret,\n",
    "    'input_playlist': input_playlist,\n",
    "    'input_sentence': input_sentence,\n",
    "    'recc_num': recc_num,\n",
    "    'sp_dc': sp_dc,\n",
    "    'sp_key': sp_key\n",
    "}\n",
    "\n",
    "# Convert variables to JSON format\n",
    "variables_json = json.dumps(variables_to_export)\n",
    "\n",
    "# Save variables to a text file\n",
    "with open('data/variables.txt', 'w') as file:\n",
    "    file.write(variables_json)"
   ]
  },
  {
   "cell_type": "code",
   "execution_count": null,
   "metadata": {},
   "outputs": [],
   "source": [
    "%run 2_emotion-sentiment-analysis-model.ipynb\n",
    "%run 3_nlp_similarity_test.ipynb\n",
    "%run 4_recommender model testing nlp incorporation.ipynb"
   ]
  }
 ],
 "metadata": {
  "kernelspec": {
   "display_name": "is217_env",
   "language": "python",
   "name": "python3"
  },
  "language_info": {
   "codemirror_mode": {
    "name": "ipython",
    "version": 3
   },
   "file_extension": ".py",
   "mimetype": "text/x-python",
   "name": "python",
   "nbconvert_exporter": "python",
   "pygments_lexer": "ipython3",
   "version": "3.11.4"
  }
 },
 "nbformat": 4,
 "nbformat_minor": 2
}
