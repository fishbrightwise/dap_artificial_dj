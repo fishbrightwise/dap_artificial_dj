{
 "cells": [
  {
   "cell_type": "code",
   "execution_count": 1,
   "metadata": {},
   "outputs": [
    {
     "name": "stderr",
     "output_type": "stream",
     "text": [
      "[nltk_data] Downloading package punkt to\n",
      "[nltk_data]     C:\\Users\\yukwa\\AppData\\Roaming\\nltk_data...\n",
      "[nltk_data]   Package punkt is already up-to-date!\n",
      "[nltk_data] Downloading package wordnet to\n",
      "[nltk_data]     C:\\Users\\yukwa\\AppData\\Roaming\\nltk_data...\n",
      "[nltk_data]   Package wordnet is already up-to-date!\n",
      "[nltk_data] Downloading package omw-1.4 to\n",
      "[nltk_data]     C:\\Users\\yukwa\\AppData\\Roaming\\nltk_data...\n",
      "[nltk_data]   Package omw-1.4 is already up-to-date!\n"
     ]
    }
   ],
   "source": [
    "import pandas as pd\n",
    "import numpy as np\n",
    "import json\n",
    "import nltk \n",
    "nltk.download('punkt')\n",
    "from nltk.corpus import wordnet\n",
    "nltk.download('wordnet')\n",
    "nltk.download('omw-1.4')\n",
    "from collections import defaultdict\n",
    "from langdetect import detect"
   ]
  },
  {
   "cell_type": "code",
   "execution_count": 33,
   "metadata": {},
   "outputs": [],
   "source": [
    "# Import extracted_languages.csv\n",
    "languages_df = pd.read_csv('data/extracted_languages.csv', index_col=0)\n",
    "\n",
    "# Import extracted_superset_genres.csv\n",
    "genres_df = pd.read_csv('data/extracted_superset_genres.csv', index_col=0)\n",
    "\n",
    "with open(\"data/variables.txt\", \"r\") as file:\n",
    "    data = json.load(file)\n",
    "\n",
    "input_sentence = data['input_sentence']"
   ]
  },
  {
   "cell_type": "code",
   "execution_count": 34,
   "metadata": {},
   "outputs": [
    {
     "data": {
      "text/html": [
       "<div>\n",
       "<style scoped>\n",
       "    .dataframe tbody tr th:only-of-type {\n",
       "        vertical-align: middle;\n",
       "    }\n",
       "\n",
       "    .dataframe tbody tr th {\n",
       "        vertical-align: top;\n",
       "    }\n",
       "\n",
       "    .dataframe thead th {\n",
       "        text-align: right;\n",
       "    }\n",
       "</style>\n",
       "<table border=\"1\" class=\"dataframe\">\n",
       "  <thead>\n",
       "    <tr style=\"text-align: right;\">\n",
       "      <th></th>\n",
       "      <th>language_iso</th>\n",
       "      <th>language_name</th>\n",
       "    </tr>\n",
       "  </thead>\n",
       "  <tbody>\n",
       "    <tr>\n",
       "      <th>0</th>\n",
       "      <td>en</td>\n",
       "      <td>English</td>\n",
       "    </tr>\n",
       "    <tr>\n",
       "      <th>1</th>\n",
       "      <td>de</td>\n",
       "      <td>German</td>\n",
       "    </tr>\n",
       "    <tr>\n",
       "      <th>2</th>\n",
       "      <td>ja</td>\n",
       "      <td>Japanese</td>\n",
       "    </tr>\n",
       "    <tr>\n",
       "      <th>3</th>\n",
       "      <td>da</td>\n",
       "      <td>Danish</td>\n",
       "    </tr>\n",
       "    <tr>\n",
       "      <th>4</th>\n",
       "      <td>sl</td>\n",
       "      <td>Slovenian</td>\n",
       "    </tr>\n",
       "  </tbody>\n",
       "</table>\n",
       "</div>"
      ],
      "text/plain": [
       "  language_iso language_name\n",
       "0           en       English\n",
       "1           de        German\n",
       "2           ja      Japanese\n",
       "3           da        Danish\n",
       "4           sl     Slovenian"
      ]
     },
     "execution_count": 34,
     "metadata": {},
     "output_type": "execute_result"
    }
   ],
   "source": [
    "languages_df.head()"
   ]
  },
  {
   "cell_type": "code",
   "execution_count": 35,
   "metadata": {},
   "outputs": [
    {
     "data": {
      "text/html": [
       "<div>\n",
       "<style scoped>\n",
       "    .dataframe tbody tr th:only-of-type {\n",
       "        vertical-align: middle;\n",
       "    }\n",
       "\n",
       "    .dataframe tbody tr th {\n",
       "        vertical-align: top;\n",
       "    }\n",
       "\n",
       "    .dataframe thead th {\n",
       "        text-align: right;\n",
       "    }\n",
       "</style>\n",
       "<table border=\"1\" class=\"dataframe\">\n",
       "  <thead>\n",
       "    <tr style=\"text-align: right;\">\n",
       "      <th></th>\n",
       "      <th>0</th>\n",
       "    </tr>\n",
       "  </thead>\n",
       "  <tbody>\n",
       "    <tr>\n",
       "      <th>0</th>\n",
       "      <td>adult standards</td>\n",
       "    </tr>\n",
       "    <tr>\n",
       "      <th>1</th>\n",
       "      <td>merseybeat</td>\n",
       "    </tr>\n",
       "    <tr>\n",
       "      <th>2</th>\n",
       "      <td>british invasion</td>\n",
       "    </tr>\n",
       "    <tr>\n",
       "      <th>3</th>\n",
       "      <td>brill building pop</td>\n",
       "    </tr>\n",
       "    <tr>\n",
       "      <th>4</th>\n",
       "      <td>rockabilly</td>\n",
       "    </tr>\n",
       "  </tbody>\n",
       "</table>\n",
       "</div>"
      ],
      "text/plain": [
       "                    0\n",
       "0     adult standards\n",
       "1          merseybeat\n",
       "2    british invasion\n",
       "3  brill building pop\n",
       "4          rockabilly"
      ]
     },
     "execution_count": 35,
     "metadata": {},
     "output_type": "execute_result"
    }
   ],
   "source": [
    "genres_df.head()"
   ]
  },
  {
   "cell_type": "code",
   "execution_count": 36,
   "metadata": {},
   "outputs": [],
   "source": [
    "language_array = languages_df['language_name'].to_numpy()\n",
    "genres_array = genres_df['0'].to_numpy()"
   ]
  },
  {
   "cell_type": "code",
   "execution_count": 37,
   "metadata": {},
   "outputs": [],
   "source": [
    "tokens = nltk.word_tokenize(input_sentence)"
   ]
  },
  {
   "cell_type": "code",
   "execution_count": 38,
   "metadata": {},
   "outputs": [
    {
     "data": {
      "text/plain": [
       "['I', 'am', 'so', 'excited', 'today', '.']"
      ]
     },
     "execution_count": 38,
     "metadata": {},
     "output_type": "execute_result"
    }
   ],
   "source": [
    "tokens"
   ]
  },
  {
   "cell_type": "code",
   "execution_count": 39,
   "metadata": {},
   "outputs": [
    {
     "name": "stdout",
     "output_type": "stream",
     "text": [
      "[Synset('iodine.n.01'), Synset('one.n.01')]\n",
      "[Synset('americium.n.01'), Synset('master_of_arts.n.01')]\n",
      "[Synset('sol.n.03'), Synset('so.r.01')]\n",
      "[Synset('excite.v.01'), Synset('stimulate.v.01')]\n",
      "[Synset('today.n.01'), Synset('today.n.02')]\n"
     ]
    }
   ],
   "source": [
    "for token in tokens:\n",
    "    if wordnet.synsets(token)!= []:\n",
    "        print(wordnet.synsets(token)[:2])\n"
   ]
  },
  {
   "cell_type": "code",
   "execution_count": null,
   "metadata": {},
   "outputs": [],
   "source": [
    "# num_attributes = [\"danceability\", \"energy\", \"loudness\", \"mode\", \"speechiness\", \"acousticness\", \"instrumentalness\", \"liveness\", \"valence\", \"tempo\"]\n",
    "# cat_attributes = [\"genre\", \"lang\", \"key\"]\n",
    "\n",
    "# attribute_scores = {}\n",
    "# for attribute in num_attributes:\n",
    "#     attribute_scores[attribute] = []\n",
    "#     attribute_synsets = wordnet.synsets(attribute)\n",
    "#     for token in tokens:\n",
    "#         token_synsets = wordnet.synsets(token)\n",
    "#         for token_synset in token_synsets:\n",
    "#             max_score = 0\n",
    "#             for attr_synset in attribute_synsets:\n",
    "#                 similarity_score = token_synset.path_similarity(attr_synset)\n",
    "#                 if similarity_score and similarity_score > max_score:\n",
    "#                     max_score = similarity_score\n",
    "#             attribute_scores[attribute].append((token_synset, max_score))\n",
    "\n",
    "# attribute_scores\n"
   ]
  },
  {
   "cell_type": "code",
   "execution_count": 41,
   "metadata": {},
   "outputs": [
    {
     "name": "stdout",
     "output_type": "stream",
     "text": [
      "Top 5 genres: ['metal', 'beats', 'experimental', 'classical', 'pop']\n"
     ]
    }
   ],
   "source": [
    "attribute_scores = defaultdict(int)\n",
    "\n",
    "for token in tokens:\n",
    "    token_synsets = wordnet.synsets(token)\n",
    "    \n",
    "    for genre in genres_array:\n",
    "        max_score = -1  # Initialize max_score with a value lower than any possible similarity score\n",
    "        genre_synsets = wordnet.synsets(genre)\n",
    "        \n",
    "        for token_synset in token_synsets:\n",
    "            for genre_synset in genre_synsets:\n",
    "                similarity_score = token_synset.path_similarity(genre_synset)\n",
    "                if similarity_score and similarity_score > max_score:\n",
    "                    max_score = similarity_score\n",
    "        \n",
    "        attribute_scores[genre] += max_score\n",
    "\n",
    "# Find the top 5 genres based on aggregate similarity scores\n",
    "top_5_genres = sorted(attribute_scores, key=attribute_scores.get, reverse=True)[:5]\n",
    "print(\"Top 5 genres:\", top_5_genres)"
   ]
  },
  {
   "cell_type": "code",
   "execution_count": 42,
   "metadata": {},
   "outputs": [],
   "source": [
    "# Define the path of the output file\n",
    "output_file = 'data/nlp_genre.txt'\n",
    "\n",
    "# Write the top 5 genres to the text file\n",
    "with open(output_file, 'w') as f:\n",
    "    f.write(str(top_5_genres))"
   ]
  },
  {
   "cell_type": "code",
   "execution_count": 44,
   "metadata": {},
   "outputs": [
    {
     "name": "stdout",
     "output_type": "stream",
     "text": [
      "en\n"
     ]
    }
   ],
   "source": [
    "count = 0\n",
    "for i in range(languages_df['language_name'].count()):\n",
    "    if languages_df['language_name'][i] in input_sentence:\n",
    "        print(languages_df['language_name'][i])\n",
    "    else:\n",
    "        count += 1\n",
    "        \n",
    "if count == languages_df['language_name'].count():\n",
    "    language = detect(input_sentence)\n",
    "    print(language)"
   ]
  },
  {
   "cell_type": "code",
   "execution_count": 45,
   "metadata": {},
   "outputs": [],
   "source": [
    "# Define the path of the output file\n",
    "output_file = 'data/nlp_language.txt'\n",
    "\n",
    "# Write the top 5 genres to the text file\n",
    "with open(output_file, 'w') as f:\n",
    "    f.write(language)"
   ]
  }
 ],
 "metadata": {
  "kernelspec": {
   "display_name": "base",
   "language": "python",
   "name": "python3"
  },
  "language_info": {
   "codemirror_mode": {
    "name": "ipython",
    "version": 3
   },
   "file_extension": ".py",
   "mimetype": "text/x-python",
   "name": "python",
   "nbconvert_exporter": "python",
   "pygments_lexer": "ipython3",
   "version": "3.11.4"
  }
 },
 "nbformat": 4,
 "nbformat_minor": 2
}
