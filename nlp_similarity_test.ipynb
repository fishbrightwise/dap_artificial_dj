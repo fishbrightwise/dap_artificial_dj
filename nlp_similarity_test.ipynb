{
 "cells": [
  {
   "cell_type": "code",
   "execution_count": 14,
   "metadata": {},
   "outputs": [
    {
     "name": "stderr",
     "output_type": "stream",
     "text": [
      "[nltk_data] Downloading package punkt to\n",
      "[nltk_data]     /Users/NicoleMichaella/nltk_data...\n",
      "[nltk_data]   Package punkt is already up-to-date!\n",
      "[nltk_data] Downloading package wordnet to\n",
      "[nltk_data]     /Users/NicoleMichaella/nltk_data...\n",
      "[nltk_data]   Package wordnet is already up-to-date!\n",
      "[nltk_data] Downloading package omw-1.4 to\n",
      "[nltk_data]     /Users/NicoleMichaella/nltk_data...\n"
     ]
    },
    {
     "data": {
      "text/plain": [
       "True"
      ]
     },
     "execution_count": 14,
     "metadata": {},
     "output_type": "execute_result"
    }
   ],
   "source": [
    "import nltk \n",
    "nltk.download('punkt')\n",
    "from nltk.corpus import wordnet\n",
    "nltk.download('wordnet')\n",
    "nltk.download('omw-1.4')"
   ]
  },
  {
   "cell_type": "code",
   "execution_count": 11,
   "metadata": {},
   "outputs": [],
   "source": [
    "sentence = input(\"What would you like your playlist to convey?\")\n",
    "tokens = nltk.word_tokenize(sentence)"
   ]
  },
  {
   "cell_type": "code",
   "execution_count": 17,
   "metadata": {},
   "outputs": [
    {
     "data": {
      "text/plain": [
       "['sunshine', 'and', 'rainbows']"
      ]
     },
     "execution_count": 17,
     "metadata": {},
     "output_type": "execute_result"
    }
   ],
   "source": [
    "tokens"
   ]
  },
  {
   "cell_type": "code",
   "execution_count": 39,
   "metadata": {},
   "outputs": [
    {
     "name": "stdout",
     "output_type": "stream",
     "text": [
      "[Synset('sunlight.n.01'), Synset('fair_weather.n.01')]\n",
      "[Synset('rainbow.n.01'), Synset('rainbow.n.02')]\n"
     ]
    }
   ],
   "source": [
    "for token in tokens:\n",
    "    if wordnet.synsets(token)!= []:\n",
    "        print(wordnet.synsets(token)[:2])\n"
   ]
  },
  {
   "cell_type": "code",
   "execution_count": 45,
   "metadata": {},
   "outputs": [
    {
     "data": {
      "text/plain": [
       "{'danceability': [(Synset('sunlight.n.01'), 0),\n",
       "  (Synset('fair_weather.n.01'), 0),\n",
       "  (Synset('cheerfulness.n.01'), 0),\n",
       "  (Synset('rainbow.n.01'), 0),\n",
       "  (Synset('rainbow.n.02'), 0)],\n",
       " 'energy': [(Synset('sunlight.n.01'), 0.16666666666666666),\n",
       "  (Synset('fair_weather.n.01'), 0.2),\n",
       "  (Synset('cheerfulness.n.01'), 0.2),\n",
       "  (Synset('rainbow.n.01'), 0.1111111111111111),\n",
       "  (Synset('rainbow.n.02'), 0.08333333333333333)],\n",
       " 'loudness': [(Synset('sunlight.n.01'), 0.058823529411764705),\n",
       "  (Synset('fair_weather.n.01'), 0.07142857142857142),\n",
       "  (Synset('cheerfulness.n.01'), 0.2),\n",
       "  (Synset('rainbow.n.01'), 0.1111111111111111),\n",
       "  (Synset('rainbow.n.02'), 0.08333333333333333)],\n",
       " 'mode': [(Synset('sunlight.n.01'), 0.0625),\n",
       "  (Synset('fair_weather.n.01'), 0.07692307692307693),\n",
       "  (Synset('cheerfulness.n.01'), 0.25),\n",
       "  (Synset('rainbow.n.01'), 0.125),\n",
       "  (Synset('rainbow.n.02'), 0.09090909090909091)],\n",
       " 'speechiness': [(Synset('sunlight.n.01'), 0),\n",
       "  (Synset('fair_weather.n.01'), 0),\n",
       "  (Synset('cheerfulness.n.01'), 0),\n",
       "  (Synset('rainbow.n.01'), 0),\n",
       "  (Synset('rainbow.n.02'), 0)],\n",
       " 'acousticness': [(Synset('sunlight.n.01'), 0),\n",
       "  (Synset('fair_weather.n.01'), 0),\n",
       "  (Synset('cheerfulness.n.01'), 0),\n",
       "  (Synset('rainbow.n.01'), 0),\n",
       "  (Synset('rainbow.n.02'), 0)],\n",
       " 'instrumentalness': [(Synset('sunlight.n.01'), 0),\n",
       "  (Synset('fair_weather.n.01'), 0),\n",
       "  (Synset('cheerfulness.n.01'), 0),\n",
       "  (Synset('rainbow.n.01'), 0),\n",
       "  (Synset('rainbow.n.02'), 0)],\n",
       " 'liveness': [(Synset('sunlight.n.01'), 0.058823529411764705),\n",
       "  (Synset('fair_weather.n.01'), 0.07142857142857142),\n",
       "  (Synset('cheerfulness.n.01'), 0.16666666666666666),\n",
       "  (Synset('rainbow.n.01'), 0.1),\n",
       "  (Synset('rainbow.n.02'), 0.07692307692307693)],\n",
       " 'valence': [(Synset('sunlight.n.01'), 0.058823529411764705),\n",
       "  (Synset('fair_weather.n.01'), 0.07142857142857142),\n",
       "  (Synset('cheerfulness.n.01'), 0.2),\n",
       "  (Synset('rainbow.n.01'), 0.1111111111111111),\n",
       "  (Synset('rainbow.n.02'), 0.08333333333333333)],\n",
       " 'tempo': [(Synset('sunlight.n.01'), 0.058823529411764705),\n",
       "  (Synset('fair_weather.n.01'), 0.07142857142857142),\n",
       "  (Synset('cheerfulness.n.01'), 0.2),\n",
       "  (Synset('rainbow.n.01'), 0.1111111111111111),\n",
       "  (Synset('rainbow.n.02'), 0.08333333333333333)]}"
      ]
     },
     "execution_count": 45,
     "metadata": {},
     "output_type": "execute_result"
    }
   ],
   "source": [
    "num_attributes = [\"danceability\", \"energy\", \"loudness\", \"mode\", \"speechiness\", \"acousticness\", \"instrumentalness\", \"liveness\", \"valence\", \"tempo\"]\n",
    "cat_attributes = [\"genre\", \"lang\", \"key\"]\n",
    "\n",
    "attribute_scores = {}\n",
    "for attribute in num_attributes:\n",
    "    attribute_scores[attribute] = []\n",
    "    attribute_synsets = wordnet.synsets(attribute)\n",
    "    for token in tokens:\n",
    "        token_synsets = wordnet.synsets(token)\n",
    "        for token_synset in token_synsets:\n",
    "            max_score = 0\n",
    "            for attr_synset in attribute_synsets:\n",
    "                similarity_score = token_synset.path_similarity(attr_synset)\n",
    "                if similarity_score and similarity_score > max_score:\n",
    "                    max_score = similarity_score\n",
    "            attribute_scores[attribute].append((token_synset, max_score))\n",
    "\n",
    "attribute_scores\n"
   ]
  }
 ],
 "metadata": {
  "kernelspec": {
   "display_name": "base",
   "language": "python",
   "name": "python3"
  },
  "language_info": {
   "codemirror_mode": {
    "name": "ipython",
    "version": 3
   },
   "file_extension": ".py",
   "mimetype": "text/x-python",
   "name": "python",
   "nbconvert_exporter": "python",
   "pygments_lexer": "ipython3",
   "version": "3.10.9"
  }
 },
 "nbformat": 4,
 "nbformat_minor": 2
}
